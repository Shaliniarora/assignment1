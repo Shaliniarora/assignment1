{
 "cells": [
  {
   "cell_type": "markdown",
   "id": "1062c9e5",
   "metadata": {},
   "source": [
    "Data Science Tools and Ecosystem"
   ]
  },
  {
   "cell_type": "markdown",
   "id": "c6c1fdf2",
   "metadata": {},
   "source": [
    "In this notebook, Data Science Tools and Ecosystem are summarized."
   ]
  },
  {
   "cell_type": "markdown",
   "id": "3c7e6a95",
   "metadata": {},
   "source": [
    "Objectives:"
   ]
  },
  {
   "cell_type": "markdown",
   "id": "6325c713",
   "metadata": {},
   "source": [
    "* We learnt about tools. \n",
    "* We learnt about open environments.\n",
    "* We learnt about languages such as Python, R, SQL etc."
   ]
  },
  {
   "cell_type": "code",
   "execution_count": null,
   "id": "278c82bd",
   "metadata": {},
   "outputs": [],
   "source": []
  },
  {
   "cell_type": "markdown",
   "id": "00822b7d",
   "metadata": {},
   "source": [
    "Some of the popular languages that Data Scientists use are:\n",
    "1. Machine Learning\n",
    "2. SQL\n",
    "3. Python\n",
    "4. Deep learning\n",
    "5. R\n",
    "6. Big data \n"
   ]
  },
  {
   "cell_type": "markdown",
   "id": "6653bea8",
   "metadata": {},
   "source": [
    "Some of the commonly used libraries used by Data Scientists include:\n",
    "1. NumPy\n",
    "2. Pandas\n",
    "3. Matplotlib\n",
    "4. Seaborn\n",
    "5. Keras\n",
    "6. Tensorflow\n",
    "7. PyTorch"
   ]
  },
  {
   "cell_type": "markdown",
   "id": "c901aa21",
   "metadata": {},
   "source": [
    "Data Science Tools\n",
    "1. Jupyter notebook\n",
    "2. RStudio\n",
    "3. Visual Studio Code\n"
   ]
  },
  {
   "cell_type": "markdown",
   "id": "113f7cc2",
   "metadata": {},
   "source": [
    "### Below are a few examples of evaluating arithmetic expressions in Python"
   ]
  },
  {
   "cell_type": "code",
   "execution_count": 2,
   "id": "6f2009d4",
   "metadata": {},
   "outputs": [
    {
     "name": "stdout",
     "output_type": "stream",
     "text": [
      "17\n"
     ]
    }
   ],
   "source": [
    "#This a simple arithmetic expression to mutiply then add integers.\n",
    "print((3*4)+5)"
   ]
  },
  {
   "cell_type": "code",
   "execution_count": 3,
   "id": "a6348093",
   "metadata": {},
   "outputs": [
    {
     "name": "stdout",
     "output_type": "stream",
     "text": [
      "3.3333333333333335\n"
     ]
    }
   ],
   "source": [
    "#This will convert 200 minutes to hours by diving by 60\n",
    "h=200/60\n",
    "print(h)"
   ]
  },
  {
   "cell_type": "markdown",
   "id": "588f0b50",
   "metadata": {},
   "source": [
    "# Author"
   ]
  },
  {
   "cell_type": "markdown",
   "id": "3469fecf",
   "metadata": {},
   "source": [
    "Shalini arora"
   ]
  },
  {
   "cell_type": "code",
   "execution_count": null,
   "id": "c8dc094f",
   "metadata": {},
   "outputs": [],
   "source": []
  }
 ],
 "metadata": {
  "kernelspec": {
   "display_name": "Python 3 (ipykernel)",
   "language": "python",
   "name": "python3"
  },
  "language_info": {
   "codemirror_mode": {
    "name": "ipython",
    "version": 3
   },
   "file_extension": ".py",
   "mimetype": "text/x-python",
   "name": "python",
   "nbconvert_exporter": "python",
   "pygments_lexer": "ipython3",
   "version": "3.11.5"
  }
 },
 "nbformat": 4,
 "nbformat_minor": 5
}
